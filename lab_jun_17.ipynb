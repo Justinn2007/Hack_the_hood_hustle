{
  "nbformat": 4,
  "nbformat_minor": 0,
  "metadata": {
    "colab": {
      "provenance": [],
      "authorship_tag": "ABX9TyOd9G//8TfRZjjMV/1PBqu+",
      "include_colab_link": true
    },
    "kernelspec": {
      "name": "python3",
      "display_name": "Python 3"
    },
    "language_info": {
      "name": "python"
    }
  },
  "cells": [
    {
      "cell_type": "markdown",
      "metadata": {
        "id": "view-in-github",
        "colab_type": "text"
      },
      "source": [
        "<a href=\"https://colab.research.google.com/github/Justinn2007/Hack_the_hood_hustle/blob/main/lab_jun_17.ipynb\" target=\"_parent\"><img src=\"https://colab.research.google.com/assets/colab-badge.svg\" alt=\"Open In Colab\"/></a>"
      ]
    },
    {
      "cell_type": "markdown",
      "source": [
        "#Lab June 17\n",
        "\n",
        "##Intro to Psuedo Code"
      ],
      "metadata": {
        "id": "4OED3_vlxGq5"
      }
    },
    {
      "cell_type": "markdown",
      "source": [
        "# The Rules to define a variables\n",
        "\n",
        "\n",
        "1) Must start with a letter or underscore\n",
        "2) Consists of letter, numers, Underscores But it will not start with a number\n",
        "3) variable names are case sensitive"
      ],
      "metadata": {
        "id": "8JbO6sruxusw"
      }
    },
    {
      "cell_type": "code",
      "source": [
        "car = \"mercades\"\n",
        "Car = \"audi\""
      ],
      "metadata": {
        "id": "wvUU1tTA0mWl"
      },
      "execution_count": null,
      "outputs": []
    },
    {
      "cell_type": "code",
      "source": [
        "car"
      ],
      "metadata": {
        "colab": {
          "base_uri": "https://localhost:8080/",
          "height": 35
        },
        "id": "LPPA5Qyi0taJ",
        "outputId": "40483198-05e5-4aa3-ad51-99097e166cc1"
      },
      "execution_count": null,
      "outputs": [
        {
          "output_type": "execute_result",
          "data": {
            "text/plain": [
              "'audi'"
            ],
            "application/vnd.google.colaboratory.intrinsic+json": {
              "type": "string"
            }
          },
          "metadata": {},
          "execution_count": 3
        }
      ]
    },
    {
      "cell_type": "code",
      "source": [
        "Print(Car)"
      ],
      "metadata": {
        "colab": {
          "base_uri": "https://localhost:8080/",
          "height": 144
        },
        "id": "OYxe5eqA0xnS",
        "outputId": "1116c11f-3ec2-4428-cdca-042a42ebfdcb"
      },
      "execution_count": null,
      "outputs": [
        {
          "output_type": "error",
          "ename": "NameError",
          "evalue": "name 'Print' is not defined",
          "traceback": [
            "\u001b[0;31m---------------------------------------------------------------------------\u001b[0m",
            "\u001b[0;31mNameError\u001b[0m                                 Traceback (most recent call last)",
            "\u001b[0;32m<ipython-input-6-782961b19555>\u001b[0m in \u001b[0;36m<cell line: 1>\u001b[0;34m()\u001b[0m\n\u001b[0;32m----> 1\u001b[0;31m \u001b[0mPrint\u001b[0m\u001b[0;34m(\u001b[0m\u001b[0mCar\u001b[0m\u001b[0;34m)\u001b[0m\u001b[0;34m\u001b[0m\u001b[0;34m\u001b[0m\u001b[0m\n\u001b[0m",
            "\u001b[0;31mNameError\u001b[0m: name 'Print' is not defined"
          ]
        }
      ]
    },
    {
      "cell_type": "code",
      "source": [
        "##Psuedo Code for my application\n",
        "\n",
        "I want to write a program that takes user input and prints it back to the screen.\n",
        "\n",
        "'first name'  the user's first name\n",
        "\n",
        "'last name'  the user's last name\n",
        "\n",
        "'age'        the user's age\n",
        "\n",
        "'Fav Color'  the user's favorite color\n",
        "\n",
        "'Fav Sport'  the user's favorite Sport\n",
        "\n",
        "'Fav Team'   the user's favorite team\n",
        "\n",
        "use a 'built in' procces to take user's data.\n",
        "\n",
        "use a 'built in' proccess to take user's data."
      ],
      "metadata": {
        "id": "TybL5ZjV05ZT"
      },
      "execution_count": null,
      "outputs": []
    },
    {
      "cell_type": "markdown",
      "source": [
        "###  Code for my application"
      ],
      "metadata": {
        "id": "t2-mbcwz2gTr"
      }
    },
    {
      "cell_type": "code",
      "source": [
        "first name = 'Justin'\n",
        "\n",
        "last name =  'Nguyen'\n",
        "\n",
        "age     = '16'\n",
        "\n",
        "Fav Color = 'Blue'\n",
        "\n",
        "Fav Sport = 'Basketball'\n",
        "\n",
        "Fav Team  = 'Warriors'"
      ],
      "metadata": {
        "id": "RUVrbjwc24Y_"
      },
      "execution_count": null,
      "outputs": []
    },
    {
      "cell_type": "code",
      "source": [
        "First_name = input(\"What is your first name? \")"
      ],
      "metadata": {
        "colab": {
          "base_uri": "https://localhost:8080/"
        },
        "id": "_yxlb4Ha4Qi6",
        "outputId": "e1bea581-d371-4105-9738-0b4328c3f3d1"
      },
      "execution_count": 7,
      "outputs": [
        {
          "name": "stdout",
          "output_type": "stream",
          "text": [
            "What is your first name? Justin\n"
          ]
        }
      ]
    },
    {
      "cell_type": "code",
      "source": [
        "print(First_name)"
      ],
      "metadata": {
        "colab": {
          "base_uri": "https://localhost:8080/"
        },
        "id": "d8SBkdoL4gmw",
        "outputId": "e3748f89-141a-4202-e87f-76b8dd125533"
      },
      "execution_count": 8,
      "outputs": [
        {
          "output_type": "stream",
          "name": "stdout",
          "text": [
            "Justin\n"
          ]
        }
      ]
    },
    {
      "cell_type": "code",
      "source": [
        "First_name = input('What is your first name? ')\n",
        "#In this line I am using the input method to ask the user's first name\n",
        "\n",
        "\n",
        "\n",
        "Last_Name = input('What is your last name? ')\n",
        "#In this line I am using the input method to ask the user's last name\n",
        "\n",
        "\n",
        "\n",
        "Age = input('What is your age? ')\n",
        "\n",
        "\n",
        "\n",
        "\n",
        "Fav_Colour = input('What is your favourite colour? ')\n",
        "\n",
        "\n",
        "\n",
        "\n",
        "Fav_Sport = input('What is your favourite sport? ')\n",
        "\n",
        "\n",
        "\n",
        "\n",
        "Fav_Team = input('What is your favourite team? ')"
      ],
      "metadata": {
        "colab": {
          "base_uri": "https://localhost:8080/"
        },
        "id": "62ijvdDs4mVF",
        "outputId": "f560287a-9a97-4fea-e00d-688beaa030ba"
      },
      "execution_count": 13,
      "outputs": [
        {
          "name": "stdout",
          "output_type": "stream",
          "text": [
            "What is your first name? Justin\n",
            "What is your last name? Nguyen\n",
            "What is your age? 16\n",
            "What is your favourite colour? Blue\n",
            "What is your favourite sport? Basketball\n",
            "What is your favourite team? Warriors\n"
          ]
        }
      ]
    },
    {
      "cell_type": "code",
      "source": [
        "print(f\"User first name is, {First_name}, last name is, {Last_Name}, age is, {Age},\\\n",
        "favourite colour is, {Fav_Colour}, favourite sport is, {Fav_Sport}, favourite team is, {Fav_Team}\")\n",
        "#This line is printing what the user input using f strings and curvy brackets.\n"
      ],
      "metadata": {
        "colab": {
          "base_uri": "https://localhost:8080/"
        },
        "id": "kcUP5aA05j5L",
        "outputId": "21234eba-95c8-4eff-eb56-b4425b274905"
      },
      "execution_count": 15,
      "outputs": [
        {
          "output_type": "stream",
          "name": "stdout",
          "text": [
            "User first name is, Justin, last name is, Nguyen, age is, 16,favourite colour is, Blue, favourite sport is, Basketball, favourite team is, Warriors\n"
          ]
        }
      ]
    },
    {
      "cell_type": "markdown",
      "source": [
        "###f-String Formatting"
      ],
      "metadata": {
        "id": "95QrrxBA6oo0"
      }
    },
    {
      "cell_type": "code",
      "source": [
        "greetings = \"Hello\"\n",
        "name = \"john\""
      ],
      "metadata": {
        "id": "YuNunYoT6v4s"
      },
      "execution_count": null,
      "outputs": []
    },
    {
      "cell_type": "code",
      "source": [
        "print(\"hello there, John\")"
      ],
      "metadata": {
        "colab": {
          "base_uri": "https://localhost:8080/"
        },
        "id": "0a-qRmRs66ww",
        "outputId": "38fec0f2-5566-4b26-e716-c726b8046e06"
      },
      "execution_count": 18,
      "outputs": [
        {
          "output_type": "stream",
          "name": "stdout",
          "text": [
            "hello there, John\n"
          ]
        }
      ]
    },
    {
      "cell_type": "code",
      "source": [
        "print(f\"{greetings} there, {name}\")"
      ],
      "metadata": {
        "colab": {
          "base_uri": "https://localhost:8080/",
          "height": 144
        },
        "id": "3mwt4uNm57tn",
        "outputId": "e975e633-838a-4156-f10d-22dd2e32c166"
      },
      "execution_count": 20,
      "outputs": [
        {
          "output_type": "error",
          "ename": "NameError",
          "evalue": "name 'greetings' is not defined",
          "traceback": [
            "\u001b[0;31m---------------------------------------------------------------------------\u001b[0m",
            "\u001b[0;31mNameError\u001b[0m                                 Traceback (most recent call last)",
            "\u001b[0;32m<ipython-input-20-20ae173734e7>\u001b[0m in \u001b[0;36m<cell line: 1>\u001b[0;34m()\u001b[0m\n\u001b[0;32m----> 1\u001b[0;31m \u001b[0mprint\u001b[0m\u001b[0;34m(\u001b[0m\u001b[0;34mf\"{greetings} there, {name}\"\u001b[0m\u001b[0;34m)\u001b[0m\u001b[0;34m\u001b[0m\u001b[0;34m\u001b[0m\u001b[0m\n\u001b[0m",
            "\u001b[0;31mNameError\u001b[0m: name 'greetings' is not defined"
          ]
        }
      ]
    },
    {
      "cell_type": "code",
      "source": [],
      "metadata": {
        "id": "9jwe_1HI7Gaf"
      },
      "execution_count": null,
      "outputs": []
    }
  ]
}